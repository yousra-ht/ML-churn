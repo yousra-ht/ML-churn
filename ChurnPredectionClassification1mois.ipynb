{
 "cells": [
  {
   "cell_type": "code",
   "execution_count": 1,
   "metadata": {},
   "outputs": [],
   "source": [
    "import numpy as np\n",
    "import matplotlib.pyplot as plt\n",
    "import pandas as pd\n",
    "from sklearn.preprocessing import LabelEncoder\n",
    "import seaborn as sns"
   ]
  },
  {
   "cell_type": "code",
   "execution_count": 2,
   "metadata": {},
   "outputs": [],
   "source": [
    "customer_data = pd.read_csv(r'Dataset_Foodo_V2.0.csv')"
   ]
  },
  {
   "cell_type": "code",
   "execution_count": 3,
   "metadata": {},
   "outputs": [
    {
     "name": "stdout",
     "output_type": "stream",
     "text": [
      "['restaurant_id', 'restaurant_name', 'restaurant_enabled', 'restaurant_city', 'restaurant_postcode', 'restaurant_country_code', 'restaurant_email', 'years_creation', 'Customer_id', 'customer_gender', 'problem', 'restaurant_type', 'invoice_payment_method', 'january_2021', 'february_2021', 'march_2021', 'april_2021', 'may_2021', 'juin_2021', 'july_2021', 'august_2021', 'september_2021', 'october_2021', 'november_2021', 'december_2021']\n"
     ]
    }
   ],
   "source": [
    "columns = customer_data.columns.values.tolist()\n",
    "print(columns)"
   ]
  },
  {
   "cell_type": "code",
   "execution_count": 4,
   "metadata": {},
   "outputs": [
    {
     "data": {
      "text/html": [
       "<div>\n",
       "<style scoped>\n",
       "    .dataframe tbody tr th:only-of-type {\n",
       "        vertical-align: middle;\n",
       "    }\n",
       "\n",
       "    .dataframe tbody tr th {\n",
       "        vertical-align: top;\n",
       "    }\n",
       "\n",
       "    .dataframe thead th {\n",
       "        text-align: right;\n",
       "    }\n",
       "</style>\n",
       "<table border=\"1\" class=\"dataframe\">\n",
       "  <thead>\n",
       "    <tr style=\"text-align: right;\">\n",
       "      <th></th>\n",
       "      <th>restaurant_id</th>\n",
       "      <th>restaurant_enabled</th>\n",
       "      <th>restaurant_postcode</th>\n",
       "      <th>years_creation</th>\n",
       "      <th>Customer_id</th>\n",
       "      <th>problem</th>\n",
       "      <th>restaurant_type</th>\n",
       "      <th>january_2021</th>\n",
       "      <th>february_2021</th>\n",
       "      <th>march_2021</th>\n",
       "      <th>april_2021</th>\n",
       "      <th>may_2021</th>\n",
       "      <th>juin_2021</th>\n",
       "      <th>july_2021</th>\n",
       "      <th>august_2021</th>\n",
       "      <th>september_2021</th>\n",
       "      <th>october_2021</th>\n",
       "      <th>november_2021</th>\n",
       "      <th>december_2021</th>\n",
       "    </tr>\n",
       "  </thead>\n",
       "  <tbody>\n",
       "    <tr>\n",
       "      <th>count</th>\n",
       "      <td>5000.000000</td>\n",
       "      <td>5000.0</td>\n",
       "      <td>5000.00000</td>\n",
       "      <td>5000.000000</td>\n",
       "      <td>5000.000000</td>\n",
       "      <td>5000.000000</td>\n",
       "      <td>229.000000</td>\n",
       "      <td>4652.000000</td>\n",
       "      <td>4627.000000</td>\n",
       "      <td>4627.000000</td>\n",
       "      <td>4652.000000</td>\n",
       "      <td>4941.000000</td>\n",
       "      <td>4.941000e+03</td>\n",
       "      <td>4918.000000</td>\n",
       "      <td>4918.000000</td>\n",
       "      <td>4949.000000</td>\n",
       "      <td>4949.000000</td>\n",
       "      <td>4956.000000</td>\n",
       "      <td>4956.000000</td>\n",
       "    </tr>\n",
       "    <tr>\n",
       "      <th>mean</th>\n",
       "      <td>2403.591200</td>\n",
       "      <td>1.0</td>\n",
       "      <td>75404.23740</td>\n",
       "      <td>3.238600</td>\n",
       "      <td>2432.407400</td>\n",
       "      <td>4.365800</td>\n",
       "      <td>11.694323</td>\n",
       "      <td>102472.190886</td>\n",
       "      <td>95040.788200</td>\n",
       "      <td>132738.618976</td>\n",
       "      <td>83534.426268</td>\n",
       "      <td>175643.422384</td>\n",
       "      <td>4.196885e+05</td>\n",
       "      <td>252473.270028</td>\n",
       "      <td>240031.447336</td>\n",
       "      <td>299858.723176</td>\n",
       "      <td>331717.329157</td>\n",
       "      <td>344530.146691</td>\n",
       "      <td>393908.215295</td>\n",
       "    </tr>\n",
       "    <tr>\n",
       "      <th>std</th>\n",
       "      <td>5711.058594</td>\n",
       "      <td>0.0</td>\n",
       "      <td>2688.98296</td>\n",
       "      <td>0.636358</td>\n",
       "      <td>5740.165952</td>\n",
       "      <td>1.716793</td>\n",
       "      <td>1.725204</td>\n",
       "      <td>98207.642935</td>\n",
       "      <td>76172.099371</td>\n",
       "      <td>113115.606862</td>\n",
       "      <td>94645.456444</td>\n",
       "      <td>143901.312670</td>\n",
       "      <td>4.187783e+05</td>\n",
       "      <td>211668.635360</td>\n",
       "      <td>176330.608505</td>\n",
       "      <td>242993.041864</td>\n",
       "      <td>282544.343116</td>\n",
       "      <td>276254.383416</td>\n",
       "      <td>335415.122051</td>\n",
       "    </tr>\n",
       "    <tr>\n",
       "      <th>min</th>\n",
       "      <td>54.000000</td>\n",
       "      <td>1.0</td>\n",
       "      <td>75001.00000</td>\n",
       "      <td>1.000000</td>\n",
       "      <td>57.000000</td>\n",
       "      <td>1.000000</td>\n",
       "      <td>2.000000</td>\n",
       "      <td>12056.000000</td>\n",
       "      <td>4463.000000</td>\n",
       "      <td>15677.000000</td>\n",
       "      <td>9698.000000</td>\n",
       "      <td>19472.000000</td>\n",
       "      <td>4.454600e+04</td>\n",
       "      <td>6811.000000</td>\n",
       "      <td>11543.000000</td>\n",
       "      <td>21340.000000</td>\n",
       "      <td>14453.000000</td>\n",
       "      <td>16423.000000</td>\n",
       "      <td>9700.000000</td>\n",
       "    </tr>\n",
       "    <tr>\n",
       "      <th>25%</th>\n",
       "      <td>54.000000</td>\n",
       "      <td>1.0</td>\n",
       "      <td>75011.00000</td>\n",
       "      <td>3.000000</td>\n",
       "      <td>125.000000</td>\n",
       "      <td>3.000000</td>\n",
       "      <td>12.000000</td>\n",
       "      <td>12056.000000</td>\n",
       "      <td>4463.000000</td>\n",
       "      <td>15677.000000</td>\n",
       "      <td>9698.000000</td>\n",
       "      <td>19472.000000</td>\n",
       "      <td>6.401600e+04</td>\n",
       "      <td>31522.000000</td>\n",
       "      <td>64583.000000</td>\n",
       "      <td>25908.000000</td>\n",
       "      <td>28214.000000</td>\n",
       "      <td>31281.000000</td>\n",
       "      <td>93740.000000</td>\n",
       "    </tr>\n",
       "    <tr>\n",
       "      <th>50%</th>\n",
       "      <td>769.000000</td>\n",
       "      <td>1.0</td>\n",
       "      <td>75012.00000</td>\n",
       "      <td>3.000000</td>\n",
       "      <td>781.000000</td>\n",
       "      <td>5.000000</td>\n",
       "      <td>12.000000</td>\n",
       "      <td>94531.000000</td>\n",
       "      <td>108705.000000</td>\n",
       "      <td>145470.000000</td>\n",
       "      <td>40340.000000</td>\n",
       "      <td>115093.000000</td>\n",
       "      <td>2.726150e+05</td>\n",
       "      <td>143307.000000</td>\n",
       "      <td>136426.000000</td>\n",
       "      <td>225967.000000</td>\n",
       "      <td>243510.000000</td>\n",
       "      <td>249277.000000</td>\n",
       "      <td>228975.000000</td>\n",
       "    </tr>\n",
       "    <tr>\n",
       "      <th>75%</th>\n",
       "      <td>834.000000</td>\n",
       "      <td>1.0</td>\n",
       "      <td>75012.00000</td>\n",
       "      <td>4.000000</td>\n",
       "      <td>846.000000</td>\n",
       "      <td>6.000000</td>\n",
       "      <td>12.000000</td>\n",
       "      <td>116329.000000</td>\n",
       "      <td>115260.000000</td>\n",
       "      <td>199511.000000</td>\n",
       "      <td>115351.000000</td>\n",
       "      <td>342709.000000</td>\n",
       "      <td>1.112447e+06</td>\n",
       "      <td>559471.000000</td>\n",
       "      <td>389635.000000</td>\n",
       "      <td>581403.000000</td>\n",
       "      <td>742433.000000</td>\n",
       "      <td>727675.000000</td>\n",
       "      <td>886205.000000</td>\n",
       "    </tr>\n",
       "    <tr>\n",
       "      <th>max</th>\n",
       "      <td>25972.000000</td>\n",
       "      <td>1.0</td>\n",
       "      <td>94400.00000</td>\n",
       "      <td>4.000000</td>\n",
       "      <td>26098.000000</td>\n",
       "      <td>6.000000</td>\n",
       "      <td>12.000000</td>\n",
       "      <td>427900.000000</td>\n",
       "      <td>279821.000000</td>\n",
       "      <td>473864.000000</td>\n",
       "      <td>394600.000000</td>\n",
       "      <td>495077.000000</td>\n",
       "      <td>1.112447e+06</td>\n",
       "      <td>559471.000000</td>\n",
       "      <td>566423.000000</td>\n",
       "      <td>646213.000000</td>\n",
       "      <td>742433.000000</td>\n",
       "      <td>727675.000000</td>\n",
       "      <td>889839.000000</td>\n",
       "    </tr>\n",
       "  </tbody>\n",
       "</table>\n",
       "</div>"
      ],
      "text/plain": [
       "       restaurant_id  restaurant_enabled  restaurant_postcode  years_creation  \\\n",
       "count    5000.000000              5000.0           5000.00000     5000.000000   \n",
       "mean     2403.591200                 1.0          75404.23740        3.238600   \n",
       "std      5711.058594                 0.0           2688.98296        0.636358   \n",
       "min        54.000000                 1.0          75001.00000        1.000000   \n",
       "25%        54.000000                 1.0          75011.00000        3.000000   \n",
       "50%       769.000000                 1.0          75012.00000        3.000000   \n",
       "75%       834.000000                 1.0          75012.00000        4.000000   \n",
       "max     25972.000000                 1.0          94400.00000        4.000000   \n",
       "\n",
       "        Customer_id      problem  restaurant_type   january_2021  \\\n",
       "count   5000.000000  5000.000000       229.000000    4652.000000   \n",
       "mean    2432.407400     4.365800        11.694323  102472.190886   \n",
       "std     5740.165952     1.716793         1.725204   98207.642935   \n",
       "min       57.000000     1.000000         2.000000   12056.000000   \n",
       "25%      125.000000     3.000000        12.000000   12056.000000   \n",
       "50%      781.000000     5.000000        12.000000   94531.000000   \n",
       "75%      846.000000     6.000000        12.000000  116329.000000   \n",
       "max    26098.000000     6.000000        12.000000  427900.000000   \n",
       "\n",
       "       february_2021     march_2021     april_2021       may_2021  \\\n",
       "count    4627.000000    4627.000000    4652.000000    4941.000000   \n",
       "mean    95040.788200  132738.618976   83534.426268  175643.422384   \n",
       "std     76172.099371  113115.606862   94645.456444  143901.312670   \n",
       "min      4463.000000   15677.000000    9698.000000   19472.000000   \n",
       "25%      4463.000000   15677.000000    9698.000000   19472.000000   \n",
       "50%    108705.000000  145470.000000   40340.000000  115093.000000   \n",
       "75%    115260.000000  199511.000000  115351.000000  342709.000000   \n",
       "max    279821.000000  473864.000000  394600.000000  495077.000000   \n",
       "\n",
       "          juin_2021      july_2021    august_2021  september_2021  \\\n",
       "count  4.941000e+03    4918.000000    4918.000000     4949.000000   \n",
       "mean   4.196885e+05  252473.270028  240031.447336   299858.723176   \n",
       "std    4.187783e+05  211668.635360  176330.608505   242993.041864   \n",
       "min    4.454600e+04    6811.000000   11543.000000    21340.000000   \n",
       "25%    6.401600e+04   31522.000000   64583.000000    25908.000000   \n",
       "50%    2.726150e+05  143307.000000  136426.000000   225967.000000   \n",
       "75%    1.112447e+06  559471.000000  389635.000000   581403.000000   \n",
       "max    1.112447e+06  559471.000000  566423.000000   646213.000000   \n",
       "\n",
       "        october_2021  november_2021  december_2021  \n",
       "count    4949.000000    4956.000000    4956.000000  \n",
       "mean   331717.329157  344530.146691  393908.215295  \n",
       "std    282544.343116  276254.383416  335415.122051  \n",
       "min     14453.000000   16423.000000    9700.000000  \n",
       "25%     28214.000000   31281.000000   93740.000000  \n",
       "50%    243510.000000  249277.000000  228975.000000  \n",
       "75%    742433.000000  727675.000000  886205.000000  \n",
       "max    742433.000000  727675.000000  889839.000000  "
      ]
     },
     "execution_count": 4,
     "metadata": {},
     "output_type": "execute_result"
    }
   ],
   "source": [
    "customer_data.describe()"
   ]
  },
  {
   "cell_type": "code",
   "execution_count": 5,
   "metadata": {},
   "outputs": [
    {
     "name": "stdout",
     "output_type": "stream",
     "text": [
      "<class 'pandas.core.frame.DataFrame'>\n",
      "RangeIndex: 5000 entries, 0 to 4999\n",
      "Data columns (total 25 columns):\n",
      " #   Column                   Non-Null Count  Dtype  \n",
      "---  ------                   --------------  -----  \n",
      " 0   restaurant_id            5000 non-null   int64  \n",
      " 1   restaurant_name          5000 non-null   object \n",
      " 2   restaurant_enabled       5000 non-null   int64  \n",
      " 3   restaurant_city          3233 non-null   object \n",
      " 4   restaurant_postcode      5000 non-null   int64  \n",
      " 5   restaurant_country_code  5000 non-null   object \n",
      " 6   restaurant_email         4863 non-null   object \n",
      " 7   years_creation           5000 non-null   int64  \n",
      " 8   Customer_id              5000 non-null   int64  \n",
      " 9   customer_gender          5000 non-null   object \n",
      " 10  problem                  5000 non-null   int64  \n",
      " 11  restaurant_type          229 non-null    float64\n",
      " 12  invoice_payment_method   5000 non-null   object \n",
      " 13  january_2021             4652 non-null   float64\n",
      " 14  february_2021            4627 non-null   float64\n",
      " 15  march_2021               4627 non-null   float64\n",
      " 16  april_2021               4652 non-null   float64\n",
      " 17  may_2021                 4941 non-null   float64\n",
      " 18  juin_2021                4941 non-null   float64\n",
      " 19  july_2021                4918 non-null   float64\n",
      " 20  august_2021              4918 non-null   float64\n",
      " 21  september_2021           4949 non-null   float64\n",
      " 22  october_2021             4949 non-null   float64\n",
      " 23  november_2021            4956 non-null   float64\n",
      " 24  december_2021            4956 non-null   float64\n",
      "dtypes: float64(13), int64(6), object(6)\n",
      "memory usage: 976.7+ KB\n"
     ]
    }
   ],
   "source": [
    "customer_data.info()"
   ]
  },
  {
   "cell_type": "code",
   "execution_count": 6,
   "metadata": {},
   "outputs": [
    {
     "data": {
      "text/plain": [
       "restaurant_id                 0\n",
       "restaurant_name               0\n",
       "restaurant_enabled            0\n",
       "restaurant_city            1767\n",
       "restaurant_postcode           0\n",
       "restaurant_country_code       0\n",
       "restaurant_email            137\n",
       "years_creation                0\n",
       "Customer_id                   0\n",
       "customer_gender               0\n",
       "problem                       0\n",
       "restaurant_type            4771\n",
       "invoice_payment_method        0\n",
       "january_2021                348\n",
       "february_2021               373\n",
       "march_2021                  373\n",
       "april_2021                  348\n",
       "may_2021                     59\n",
       "juin_2021                    59\n",
       "july_2021                    82\n",
       "august_2021                  82\n",
       "september_2021               51\n",
       "october_2021                 51\n",
       "november_2021                44\n",
       "december_2021                44\n",
       "dtype: int64"
      ]
     },
     "execution_count": 6,
     "metadata": {},
     "output_type": "execute_result"
    }
   ],
   "source": [
    "customer_data.isnull().sum()"
   ]
  },
  {
   "cell_type": "code",
   "execution_count": 7,
   "metadata": {},
   "outputs": [],
   "source": [
    "dataset = customer_data.drop(['restaurant_id', 'restaurant_name', 'Customer_id','restaurant_enabled','restaurant_email','restaurant_postcode','restaurant_country_code'], axis=1)"
   ]
  },
  {
   "cell_type": "code",
   "execution_count": 8,
   "metadata": {},
   "outputs": [
    {
     "name": "stdout",
     "output_type": "stream",
     "text": [
      "Index(['u', 'f', 'm'], dtype='object')\n"
     ]
    },
    {
     "data": {
      "image/png": "[encoded data removed]",
      "text/plain": [
       "<Figure size 792x360 with 1 Axes>"
      ]
     },
     "metadata": {
      "needs_background": "light"
     },
     "output_type": "display_data"
    }
   ],
   "source": [
    "genders = dataset.customer_gender.value_counts()\n",
    "print(genders.index)\n",
    "plt.figure(figsize=(11,5))\n",
    "sns.barplot(x=genders.index, y=genders.values)\n",
    "plt.show()"
   ]
  },
  {
   "cell_type": "code",
   "execution_count": 9,
   "metadata": {},
   "outputs": [],
   "source": [
    "enc = LabelEncoder()\n",
    "enc.fit(dataset['customer_gender'])\n",
    "dataset['customer_gender'] = enc.transform(dataset['customer_gender'])"
   ]
  },
  {
   "cell_type": "code",
   "execution_count": 10,
   "metadata": {},
   "outputs": [],
   "source": [
    "dataset['restaurant_city'] = dataset['restaurant_city'].fillna('Unknown')"
   ]
  },
  {
   "cell_type": "code",
   "execution_count": 11,
   "metadata": {},
   "outputs": [
    {
     "name": "stdout",
     "output_type": "stream",
     "text": [
      "Index(['PARIS', 'UNKNOWN', 'VITRY SUR SEINE', 'BOULOGNE-BILLANCOURT',\n",
      "       'AUBERVILLIERS'],\n",
      "      dtype='object')\n"
     ]
    },
    {
     "data": {
      "image/png": "[encoded data removed]",
      "text/plain": [
       "<Figure size 792x360 with 1 Axes>"
      ]
     },
     "metadata": {
      "needs_background": "light"
     },
     "output_type": "display_data"
    }
   ],
   "source": [
    "dataset['restaurant_city'] = dataset['restaurant_city'].str.upper()\n",
    "cities = dataset.restaurant_city.value_counts()\n",
    "print(cities.index)\n",
    "plt.figure(figsize=(11,5))\n",
    "sns.barplot(x=cities.index, y=cities.values)\n",
    "plt.show()"
   ]
  },
  {
   "cell_type": "code",
   "execution_count": 12,
   "metadata": {},
   "outputs": [],
   "source": [
    "enc = LabelEncoder()\n",
    "enc.fit(dataset['restaurant_city'])\n",
    "dataset['restaurant_city'] = enc.transform(dataset['restaurant_city'])"
   ]
  },
  {
   "cell_type": "code",
   "execution_count": 13,
   "metadata": {},
   "outputs": [
    {
     "name": "stdout",
     "output_type": "stream",
     "text": [
      "Index(['A CREDIT', 'CB', 'CB ', 'CHEQUE'], dtype='object')\n"
     ]
    },
    {
     "data": {
      "image/png": "[encoded data removed]",
      "text/plain": [
       "<Figure size 792x360 with 1 Axes>"
      ]
     },
     "metadata": {
      "needs_background": "light"
     },
     "output_type": "display_data"
    }
   ],
   "source": [
    "dataset['invoice_payment_method'] = dataset['invoice_payment_method'].str.upper()\n",
    "payment_methode = dataset.invoice_payment_method.value_counts()\n",
    "print(payment_methode.index)\n",
    "plt.figure(figsize=(11,5))\n",
    "sns.barplot(x=payment_methode.index, y=payment_methode.values)\n",
    "plt.show()"
   ]
  },
  {
   "cell_type": "code",
   "execution_count": 14,
   "metadata": {},
   "outputs": [],
   "source": [
    "dataset['invoice_payment_method'] = dataset['invoice_payment_method'].str.upper()\n",
    "for i in range(dataset['invoice_payment_method'].shape[0]):\n",
    "    if dataset['invoice_payment_method'].at[i] == 'CB ':\n",
    "        dataset['invoice_payment_method'].at[i]=dataset['invoice_payment_method'].at[i].replace(\" \", \"\")"
   ]
  },
  {
   "cell_type": "code",
   "execution_count": 15,
   "metadata": {},
   "outputs": [
    {
     "name": "stdout",
     "output_type": "stream",
     "text": [
      "Index(['A CREDIT', 'CB', 'CHEQUE'], dtype='object')\n"
     ]
    },
    {
     "data": {
      "image/png": "[encoded data removed]",
      "text/plain": [
       "<Figure size 792x360 with 1 Axes>"
      ]
     },
     "metadata": {
      "needs_background": "light"
     },
     "output_type": "display_data"
    }
   ],
   "source": [
    "\n",
    "payment_methode = dataset.invoice_payment_method.value_counts()\n",
    "print(payment_methode.index)\n",
    "plt.figure(figsize=(11,5))\n",
    "sns.barplot(x=payment_methode.index, y=payment_methode.values)\n",
    "plt.show()"
   ]
  },
  {
   "cell_type": "code",
   "execution_count": 16,
   "metadata": {},
   "outputs": [],
   "source": [
    "enc = LabelEncoder()\n",
    "enc.fit(dataset['invoice_payment_method'])\n",
    "dataset['invoice_payment_method'] = enc.transform(dataset['invoice_payment_method'])"
   ]
  },
  {
   "cell_type": "code",
   "execution_count": 17,
   "metadata": {},
   "outputs": [],
   "source": [
    "dataset['january_2021'] = dataset['january_2021'].fillna(0)\n",
    "dataset['february_2021'] = dataset['february_2021'].fillna(0)\n",
    "dataset['march_2021'] = dataset['march_2021'].fillna(0)\n",
    "dataset['april_2021'] = dataset['april_2021'].fillna(0)\n",
    "dataset['may_2021'] = dataset['may_2021'].fillna(0)\n",
    "dataset['juin_2021'] = dataset['juin_2021'].fillna(0)\n",
    "dataset['july_2021'] = dataset['july_2021'].fillna(0)\n",
    "dataset['august_2021'] = dataset['august_2021'].fillna(0)\n",
    "dataset['september_2021'] = dataset['september_2021'].fillna(0)\n",
    "dataset['october_2021'] = dataset['october_2021'].fillna(0)\n",
    "dataset['november_2021'] = dataset['november_2021'].fillna(0)\n",
    "dataset['december_2021'] = dataset['december_2021'].fillna(0)"
   ]
  },
  {
   "cell_type": "code",
   "execution_count": 18,
   "metadata": {},
   "outputs": [],
   "source": [
    "dataset['restaurant_type'] = dataset['restaurant_type'].fillna(0)"
   ]
  },
  {
   "cell_type": "code",
   "execution_count": 19,
   "metadata": {},
   "outputs": [
    {
     "data": {
      "text/plain": [
       "restaurant_city           0\n",
       "years_creation            0\n",
       "customer_gender           0\n",
       "problem                   0\n",
       "restaurant_type           0\n",
       "invoice_payment_method    0\n",
       "january_2021              0\n",
       "february_2021             0\n",
       "march_2021                0\n",
       "april_2021                0\n",
       "may_2021                  0\n",
       "juin_2021                 0\n",
       "july_2021                 0\n",
       "august_2021               0\n",
       "september_2021            0\n",
       "october_2021              0\n",
       "november_2021             0\n",
       "december_2021             0\n",
       "dtype: int64"
      ]
     },
     "execution_count": 19,
     "metadata": {},
     "output_type": "execute_result"
    }
   ],
   "source": [
    "dataset.isnull().sum()"
   ]
  },
  {
   "cell_type": "code",
   "execution_count": 20,
   "metadata": {},
   "outputs": [],
   "source": [
    "dataset = dataset.drop(['march_2021', 'april_2021', 'may_2021','juin_2021','july_2021','august_2021','september_2021','october_2021','november_2021','december_2021'], axis=1)"
   ]
  },
  {
   "cell_type": "code",
   "execution_count": 21,
   "metadata": {},
   "outputs": [],
   "source": [
    "for i in range(dataset['february_2021'].shape[0]): #iterate over rows\n",
    "    \n",
    "        value = dataset['february_2021'].at[i] #get cell value\n",
    "       \n",
    "        if dataset['february_2021'].at[i]  == 0.0 :\n",
    "           \n",
    "            dataset['february_2021'].at[i] = int(0)\n",
    "        else :\n",
    "           \n",
    "            dataset['february_2021'].at[i]=int(1)\n",
    "dataset['february_2021'] = dataset['february_2021'].astype(int)"
   ]
  },
  {
   "cell_type": "code",
   "execution_count": 22,
   "metadata": {},
   "outputs": [
    {
     "data": {
      "text/html": [
       "<div>\n",
       "<style scoped>\n",
       "    .dataframe tbody tr th:only-of-type {\n",
       "        vertical-align: middle;\n",
       "    }\n",
       "\n",
       "    .dataframe tbody tr th {\n",
       "        vertical-align: top;\n",
       "    }\n",
       "\n",
       "    .dataframe thead th {\n",
       "        text-align: right;\n",
       "    }\n",
       "</style>\n",
       "<table border=\"1\" class=\"dataframe\">\n",
       "  <thead>\n",
       "    <tr style=\"text-align: right;\">\n",
       "      <th></th>\n",
       "      <th>restaurant_city</th>\n",
       "      <th>years_creation</th>\n",
       "      <th>customer_gender</th>\n",
       "      <th>problem</th>\n",
       "      <th>restaurant_type</th>\n",
       "      <th>invoice_payment_method</th>\n",
       "      <th>january_2021</th>\n",
       "      <th>february_2021</th>\n",
       "    </tr>\n",
       "  </thead>\n",
       "  <tbody>\n",
       "    <tr>\n",
       "      <th>0</th>\n",
       "      <td>0</td>\n",
       "      <td>1</td>\n",
       "      <td>2</td>\n",
       "      <td>1</td>\n",
       "      <td>2.0</td>\n",
       "      <td>2</td>\n",
       "      <td>0.0</td>\n",
       "      <td>0</td>\n",
       "    </tr>\n",
       "    <tr>\n",
       "      <th>1</th>\n",
       "      <td>0</td>\n",
       "      <td>1</td>\n",
       "      <td>2</td>\n",
       "      <td>1</td>\n",
       "      <td>2.0</td>\n",
       "      <td>1</td>\n",
       "      <td>0.0</td>\n",
       "      <td>0</td>\n",
       "    </tr>\n",
       "    <tr>\n",
       "      <th>2</th>\n",
       "      <td>0</td>\n",
       "      <td>1</td>\n",
       "      <td>2</td>\n",
       "      <td>1</td>\n",
       "      <td>2.0</td>\n",
       "      <td>1</td>\n",
       "      <td>0.0</td>\n",
       "      <td>0</td>\n",
       "    </tr>\n",
       "    <tr>\n",
       "      <th>3</th>\n",
       "      <td>0</td>\n",
       "      <td>1</td>\n",
       "      <td>2</td>\n",
       "      <td>1</td>\n",
       "      <td>2.0</td>\n",
       "      <td>1</td>\n",
       "      <td>0.0</td>\n",
       "      <td>0</td>\n",
       "    </tr>\n",
       "    <tr>\n",
       "      <th>4</th>\n",
       "      <td>0</td>\n",
       "      <td>1</td>\n",
       "      <td>2</td>\n",
       "      <td>1</td>\n",
       "      <td>2.0</td>\n",
       "      <td>1</td>\n",
       "      <td>0.0</td>\n",
       "      <td>0</td>\n",
       "    </tr>\n",
       "    <tr>\n",
       "      <th>...</th>\n",
       "      <td>...</td>\n",
       "      <td>...</td>\n",
       "      <td>...</td>\n",
       "      <td>...</td>\n",
       "      <td>...</td>\n",
       "      <td>...</td>\n",
       "      <td>...</td>\n",
       "      <td>...</td>\n",
       "    </tr>\n",
       "    <tr>\n",
       "      <th>4995</th>\n",
       "      <td>2</td>\n",
       "      <td>2</td>\n",
       "      <td>2</td>\n",
       "      <td>6</td>\n",
       "      <td>0.0</td>\n",
       "      <td>1</td>\n",
       "      <td>78857.0</td>\n",
       "      <td>1</td>\n",
       "    </tr>\n",
       "    <tr>\n",
       "      <th>4996</th>\n",
       "      <td>2</td>\n",
       "      <td>2</td>\n",
       "      <td>2</td>\n",
       "      <td>6</td>\n",
       "      <td>0.0</td>\n",
       "      <td>1</td>\n",
       "      <td>78857.0</td>\n",
       "      <td>1</td>\n",
       "    </tr>\n",
       "    <tr>\n",
       "      <th>4997</th>\n",
       "      <td>2</td>\n",
       "      <td>2</td>\n",
       "      <td>2</td>\n",
       "      <td>6</td>\n",
       "      <td>0.0</td>\n",
       "      <td>1</td>\n",
       "      <td>78857.0</td>\n",
       "      <td>1</td>\n",
       "    </tr>\n",
       "    <tr>\n",
       "      <th>4998</th>\n",
       "      <td>2</td>\n",
       "      <td>2</td>\n",
       "      <td>2</td>\n",
       "      <td>6</td>\n",
       "      <td>0.0</td>\n",
       "      <td>1</td>\n",
       "      <td>78857.0</td>\n",
       "      <td>1</td>\n",
       "    </tr>\n",
       "    <tr>\n",
       "      <th>4999</th>\n",
       "      <td>2</td>\n",
       "      <td>2</td>\n",
       "      <td>2</td>\n",
       "      <td>6</td>\n",
       "      <td>0.0</td>\n",
       "      <td>1</td>\n",
       "      <td>78857.0</td>\n",
       "      <td>1</td>\n",
       "    </tr>\n",
       "  </tbody>\n",
       "</table>\n",
       "<p>5000 rows × 8 columns</p>\n",
       "</div>"
      ],
      "text/plain": [
       "      restaurant_city  years_creation  customer_gender  problem  \\\n",
       "0                   0               1                2        1   \n",
       "1                   0               1                2        1   \n",
       "2                   0               1                2        1   \n",
       "3                   0               1                2        1   \n",
       "4                   0               1                2        1   \n",
       "...               ...             ...              ...      ...   \n",
       "4995                2               2                2        6   \n",
       "4996                2               2                2        6   \n",
       "4997                2               2                2        6   \n",
       "4998                2               2                2        6   \n",
       "4999                2               2                2        6   \n",
       "\n",
       "      restaurant_type  invoice_payment_method  january_2021  february_2021  \n",
       "0                 2.0                       2           0.0              0  \n",
       "1                 2.0                       1           0.0              0  \n",
       "2                 2.0                       1           0.0              0  \n",
       "3                 2.0                       1           0.0              0  \n",
       "4                 2.0                       1           0.0              0  \n",
       "...               ...                     ...           ...            ...  \n",
       "4995              0.0                       1       78857.0              1  \n",
       "4996              0.0                       1       78857.0              1  \n",
       "4997              0.0                       1       78857.0              1  \n",
       "4998              0.0                       1       78857.0              1  \n",
       "4999              0.0                       1       78857.0              1  \n",
       "\n",
       "[5000 rows x 8 columns]"
      ]
     },
     "execution_count": 22,
     "metadata": {},
     "output_type": "execute_result"
    }
   ],
   "source": [
    "dataset"
   ]
  },
  {
   "cell_type": "code",
   "execution_count": 40,
   "metadata": {},
   "outputs": [],
   "source": [
    "y = dataset.february_2021.values\n",
    "X = dataset.drop('february_2021', axis = 1)\n",
    "X = X.values"
   ]
  },
  {
   "cell_type": "code",
   "execution_count": 25,
   "metadata": {},
   "outputs": [],
   "source": [
    "cols = X.columns"
   ]
  },
  {
   "cell_type": "code",
   "execution_count": 27,
   "metadata": {},
   "outputs": [
    {
     "name": "stdout",
     "output_type": "stream",
     "text": [
      "<class 'pandas.core.frame.DataFrame'>\n",
      "RangeIndex: 5000 entries, 0 to 4999\n",
      "Data columns (total 7 columns):\n",
      " #   Column  Non-Null Count  Dtype  \n",
      "---  ------  --------------  -----  \n",
      " 0   0       5000 non-null   float64\n",
      " 1   1       5000 non-null   float64\n",
      " 2   2       5000 non-null   float64\n",
      " 3   3       5000 non-null   float64\n",
      " 4   4       5000 non-null   float64\n",
      " 5   5       5000 non-null   float64\n",
      " 6   6       5000 non-null   float64\n",
      "dtypes: float64(7)\n",
      "memory usage: 273.6 KB\n"
     ]
    }
   ],
   "source": [
    "X.info()"
   ]
  },
  {
   "cell_type": "code",
   "execution_count": 28,
   "metadata": {},
   "outputs": [],
   "source": [
    "from sklearn.model_selection import train_test_split\n",
    "from sklearn.metrics import accuracy_score, confusion_matrix\n",
    "from sklearn.linear_model import LogisticRegression "
   ]
  },
  {
   "cell_type": "code",
   "execution_count": 41,
   "metadata": {},
   "outputs": [],
   "source": [
    "X_train, X_test, y_train, y_test = train_test_split(X, y, test_size=0.3, random_state=41)"
   ]
  },
  {
   "cell_type": "code",
   "execution_count": 42,
   "metadata": {},
   "outputs": [
    {
     "data": {
      "text/plain": [
       "array([[2.00000e+00, 3.00000e+00, 2.00000e+00, ..., 0.00000e+00,\n",
       "        0.00000e+00, 1.70843e+05],\n",
       "       [2.00000e+00, 3.00000e+00, 2.00000e+00, ..., 0.00000e+00,\n",
       "        0.00000e+00, 1.70843e+05],\n",
       "       [2.00000e+00, 2.00000e+00, 2.00000e+00, ..., 0.00000e+00,\n",
       "        1.00000e+00, 3.49838e+05],\n",
       "       ...,\n",
       "       [3.00000e+00, 4.00000e+00, 2.00000e+00, ..., 0.00000e+00,\n",
       "        0.00000e+00, 1.20560e+04],\n",
       "       [3.00000e+00, 4.00000e+00, 2.00000e+00, ..., 0.00000e+00,\n",
       "        0.00000e+00, 1.20560e+04],\n",
       "       [2.00000e+00, 3.00000e+00, 2.00000e+00, ..., 0.00000e+00,\n",
       "        1.00000e+00, 1.16329e+05]])"
      ]
     },
     "execution_count": 42,
     "metadata": {},
     "output_type": "execute_result"
    }
   ],
   "source": [
    "X_train"
   ]
  },
  {
   "cell_type": "code",
   "execution_count": 44,
   "metadata": {},
   "outputs": [
    {
     "name": "stdout",
     "output_type": "stream",
     "text": [
      "0.9946666666666667\n"
     ]
    }
   ],
   "source": [
    "\n",
    "model=LogisticRegression( max_iter=500)\n",
    "model.fit(X_train,y_train)\n",
    "prediction_logreg=model.predict(X_test)\n",
    "print(accuracy_score(y_test,prediction_logreg))\n"
   ]
  },
  {
   "cell_type": "code",
   "execution_count": 32,
   "metadata": {},
   "outputs": [],
   "source": [
    "y_test_score = model.decision_function(X_test)"
   ]
  },
  {
   "cell_type": "code",
   "execution_count": 33,
   "metadata": {},
   "outputs": [],
   "source": [
    "#import joblib\n"
   ]
  },
  {
   "cell_type": "code",
   "execution_count": 34,
   "metadata": {},
   "outputs": [],
   "source": [
    "  #filename = 'Completed_model.sav'"
   ]
  },
  {
   "cell_type": "code",
   "execution_count": 35,
   "metadata": {},
   "outputs": [],
   "source": [
    "#joblib.dump(model, filename)"
   ]
  },
  {
   "cell_type": "code",
   "execution_count": 36,
   "metadata": {},
   "outputs": [],
   "source": [
    "import pickle"
   ]
  },
  {
   "cell_type": "code",
   "execution_count": 50,
   "metadata": {},
   "outputs": [],
   "source": [
    "pickle.dump(model , open('model1mois.pkl', 'wb'))"
   ]
  },
  {
   "cell_type": "code",
   "execution_count": 51,
   "metadata": {},
   "outputs": [],
   "source": [
    "modeleDep = pickle.load(open('model1mois.pkl', 'rb'))"
   ]
  },
  {
   "cell_type": "code",
   "execution_count": 48,
   "metadata": {},
   "outputs": [
    {
     "name": "stdout",
     "output_type": "stream",
     "text": [
      "[0]\n"
     ]
    }
   ],
   "source": [
    "print(modeleDep.predict([[3.0, 1.0, 1.0, 0.0, 2.0, 1.0, 17093.0]]))"
   ]
  }
 ],
 "metadata": {
  "interpreter": {
   "hash": "14958d3aee5f1cad06795f787e54b96185c25fb40dfec723a5be941f3a531b8c"
  },
  "kernelspec": {
   "display_name": "Python 3.9.6 64-bit",
   "language": "python",
   "name": "python3"
  },
  "language_info": {
   "codemirror_mode": {
    "name": "ipython",
    "version": 3
   },
   "file_extension": ".py",
   "mimetype": "text/x-python",
   "name": "python",
   "nbconvert_exporter": "python",
   "pygments_lexer": "ipython3",
   "version": "3.9.6"
  },
  "orig_nbformat": 4
 },
 "nbformat": 4,
 "nbformat_minor": 2
}
